{
 "cells": [
  {
   "cell_type": "code",
   "execution_count": 19,
   "metadata": {},
   "outputs": [],
   "source": [
    "import tensorflow as tf\n",
    "import os , numpy as np\n",
    "os.chdir(\"D:/PycharmProjects/DS_ML_Self/FSDS_NOV_deepCNNClassifier\")"
   ]
  },
  {
   "cell_type": "code",
   "execution_count": 20,
   "metadata": {},
   "outputs": [],
   "source": [
    "from dataclasses import dataclass\n",
    "from pathlib import Path\n",
    "\n",
    "@dataclass(frozen=True)\n",
    "class EvaluationConfig:\n",
    "    path_to_model: Path\n",
    "    training_data: Path\n",
    "    all_params: dict\n",
    "    mlfolw_url: str\n",
    "    params_image_size: list \n",
    "    params_batch_size: int\n",
    "    "
   ]
  },
  {
   "cell_type": "code",
   "execution_count": null,
   "metadata": {},
   "outputs": [],
   "source": []
  },
  {
   "cell_type": "code",
   "execution_count": 21,
   "metadata": {},
   "outputs": [],
   "source": [
    "from deepClassifier.constant import *\n",
    "from deepClassifier.utils import read_yaml,save_json, create_directories\n",
    "\n",
    "class ConfigurationManager:\n",
    "    def __init__(self,\n",
    "                 config_filepath=CONFIG_FILE_PATH,\n",
    "                 params_filepath=PARAMS_FILE_PATH):\n",
    "        self.config = read_yaml(config_filepath)\n",
    "        self.params = read_yaml(params_filepath)\n",
    "        create_directories([self.config.artifacts_root])\n",
    "        \n",
    "    def get_validation_config(self) -> EvaluationConfig:\n",
    "        eval_config = EvaluationConfig(\n",
    "            path_to_model=\"artifacts/training/model.h5\",\n",
    "            training_data=\"artifacts/data_ingestion/PetImages\",\n",
    "            mlfolw_url=\"https://dagshub.com/umaretiya/FSDS_NOV_deepCNNClassifier.mlflow\",\n",
    "            all_params=self.params,\n",
    "            params_image_size=self.params.IMAGE_SIZE,\n",
    "            params_batch_size=self.params.BATCH_SIZE,\n",
    "        )\n",
    "        return eval_config"
   ]
  },
  {
   "cell_type": "code",
   "execution_count": 22,
   "metadata": {},
   "outputs": [],
   "source": [
    "model = tf.keras.models.load_model(\"artifacts/training/model.h5\")"
   ]
  },
  {
   "cell_type": "code",
   "execution_count": 23,
   "metadata": {},
   "outputs": [],
   "source": [
    "# !pip install mlflow==1.26.1"
   ]
  },
  {
   "cell_type": "code",
   "execution_count": null,
   "metadata": {},
   "outputs": [],
   "source": []
  },
  {
   "cell_type": "code",
   "execution_count": 26,
   "metadata": {},
   "outputs": [],
   "source": [
    "import tensorflow as tf\n",
    "from pathlib import Path\n",
    "import mlflow \n",
    "import mlflow.keras\n",
    "from urllib.parse import urlparse\n",
    "\n",
    "class Evaluation:\n",
    "    def __init__(self, config:EvaluationConfig):\n",
    "        self.config = config\n",
    "    \n",
    "    def _valid_generator(self):\n",
    "        datagenerator_kwargs = dict(\n",
    "            rescale=1./ 255,\n",
    "            validation_split=0.30\n",
    "        )\n",
    "        \n",
    "        dataflow_kwargs = dict(\n",
    "            target_size=self.config.params_image_size[:-1],\n",
    "            batch_size=self.config.params_batch_size,\n",
    "            interpolation=\"bilinear\",\n",
    "        )\n",
    "        \n",
    "        valid_datagenerator = tf.keras.preprocessing.image.ImageDataGenerator(\n",
    "            **datagenerator_kwargs\n",
    "        )\n",
    "        \n",
    "        self.valid_generator = valid_datagenerator.flow_from_directory(\n",
    "            directory=self.config.training_data,\n",
    "            subset=\"validation\",\n",
    "            shuffle=False,\n",
    "            **dataflow_kwargs,\n",
    "        )\n",
    "        \n",
    "    @staticmethod\n",
    "    def load_model(path: Path) -> tf.keras.Model:\n",
    "        return tf.keras.models.load_model(path)\n",
    "    \n",
    "    def evaluation(self):\n",
    "        self.model = self.load_model(self.config.path_to_model)\n",
    "        self._valid_generator()\n",
    "        self.score = model.evaluate(self.valid_generator)\n",
    "    \n",
    "    def save_score(self):\n",
    "        scores = {\"loss\": self.score[0], \"accuracy\": self.score[1]}\n",
    "        save_json(path=Path(\"scores.json\"), data=scores)\n",
    "        \n",
    "    def log_into_mlflow(self):\n",
    "        mlflow.set_registry_uri(self.config.mlfolw_url)\n",
    "        tracking_url_type_store = urlparse(mlflow.get_tracking_uri()).scheme\n",
    "        with mlflow.start_run():\n",
    "            mlflow.log_params(self.config.all_params)\n",
    "            mlflow.log_metrics(\n",
    "                {\"loss\":self.score[0], \"accuracy\":self.score[1]}\n",
    "            )\n",
    "            if tracking_url_type_store != \"file\":\n",
    "                mlflow.keras.load_model(self.model, \"model\", registered_model_name=\"VGG16Model\")\n",
    "            else:\n",
    "                mlflow.keras.log_model(self.model, \"model\")\n"
   ]
  },
  {
   "cell_type": "code",
   "execution_count": 27,
   "metadata": {},
   "outputs": [
    {
     "name": "stdout",
     "output_type": "stream",
     "text": [
      "Found 7498 images belonging to 2 classes.\n"
     ]
    },
    {
     "ename": "InvalidArgumentError",
     "evalue": "Graph execution error:\n\nDetected at node 'Squeeze' defined at (most recent call last):\n    File \"d:\\PycharmProjects\\DS_ML_Self\\FSDS_NOV_deepCNNClassifier\\env\\lib\\runpy.py\", line 197, in _run_module_as_main\n      return _run_code(code, main_globals, None,\n    File \"d:\\PycharmProjects\\DS_ML_Self\\FSDS_NOV_deepCNNClassifier\\env\\lib\\runpy.py\", line 87, in _run_code\n      exec(code, run_globals)\n    File \"d:\\PycharmProjects\\DS_ML_Self\\FSDS_NOV_deepCNNClassifier\\env\\lib\\site-packages\\ipykernel_launcher.py\", line 17, in <module>\n      app.launch_new_instance()\n    File \"d:\\PycharmProjects\\DS_ML_Self\\FSDS_NOV_deepCNNClassifier\\env\\lib\\site-packages\\traitlets\\config\\application.py\", line 978, in launch_instance\n      app.start()\n    File \"d:\\PycharmProjects\\DS_ML_Self\\FSDS_NOV_deepCNNClassifier\\env\\lib\\site-packages\\ipykernel\\kernelapp.py\", line 712, in start\n      self.io_loop.start()\n    File \"d:\\PycharmProjects\\DS_ML_Self\\FSDS_NOV_deepCNNClassifier\\env\\lib\\site-packages\\tornado\\platform\\asyncio.py\", line 215, in start\n      self.asyncio_loop.run_forever()\n    File \"d:\\PycharmProjects\\DS_ML_Self\\FSDS_NOV_deepCNNClassifier\\env\\lib\\asyncio\\base_events.py\", line 601, in run_forever\n      self._run_once()\n    File \"d:\\PycharmProjects\\DS_ML_Self\\FSDS_NOV_deepCNNClassifier\\env\\lib\\asyncio\\base_events.py\", line 1905, in _run_once\n      handle._run()\n    File \"d:\\PycharmProjects\\DS_ML_Self\\FSDS_NOV_deepCNNClassifier\\env\\lib\\asyncio\\events.py\", line 80, in _run\n      self._context.run(self._callback, *self._args)\n    File \"d:\\PycharmProjects\\DS_ML_Self\\FSDS_NOV_deepCNNClassifier\\env\\lib\\site-packages\\ipykernel\\kernelbase.py\", line 510, in dispatch_queue\n      await self.process_one()\n    File \"d:\\PycharmProjects\\DS_ML_Self\\FSDS_NOV_deepCNNClassifier\\env\\lib\\site-packages\\ipykernel\\kernelbase.py\", line 499, in process_one\n      await dispatch(*args)\n    File \"d:\\PycharmProjects\\DS_ML_Self\\FSDS_NOV_deepCNNClassifier\\env\\lib\\site-packages\\ipykernel\\kernelbase.py\", line 406, in dispatch_shell\n      await result\n    File \"d:\\PycharmProjects\\DS_ML_Self\\FSDS_NOV_deepCNNClassifier\\env\\lib\\site-packages\\ipykernel\\kernelbase.py\", line 730, in execute_request\n      reply_content = await reply_content\n    File \"d:\\PycharmProjects\\DS_ML_Self\\FSDS_NOV_deepCNNClassifier\\env\\lib\\site-packages\\ipykernel\\ipkernel.py\", line 383, in do_execute\n      res = shell.run_cell(\n    File \"d:\\PycharmProjects\\DS_ML_Self\\FSDS_NOV_deepCNNClassifier\\env\\lib\\site-packages\\ipykernel\\zmqshell.py\", line 528, in run_cell\n      return super().run_cell(*args, **kwargs)\n    File \"d:\\PycharmProjects\\DS_ML_Self\\FSDS_NOV_deepCNNClassifier\\env\\lib\\site-packages\\IPython\\core\\interactiveshell.py\", line 2885, in run_cell\n      result = self._run_cell(\n    File \"d:\\PycharmProjects\\DS_ML_Self\\FSDS_NOV_deepCNNClassifier\\env\\lib\\site-packages\\IPython\\core\\interactiveshell.py\", line 2940, in _run_cell\n      return runner(coro)\n    File \"d:\\PycharmProjects\\DS_ML_Self\\FSDS_NOV_deepCNNClassifier\\env\\lib\\site-packages\\IPython\\core\\async_helpers.py\", line 129, in _pseudo_sync_runner\n      coro.send(None)\n    File \"d:\\PycharmProjects\\DS_ML_Self\\FSDS_NOV_deepCNNClassifier\\env\\lib\\site-packages\\IPython\\core\\interactiveshell.py\", line 3139, in run_cell_async\n      has_raised = await self.run_ast_nodes(code_ast.body, cell_name,\n    File \"d:\\PycharmProjects\\DS_ML_Self\\FSDS_NOV_deepCNNClassifier\\env\\lib\\site-packages\\IPython\\core\\interactiveshell.py\", line 3318, in run_ast_nodes\n      if await self.run_code(code, result, async_=asy):\n    File \"d:\\PycharmProjects\\DS_ML_Self\\FSDS_NOV_deepCNNClassifier\\env\\lib\\site-packages\\IPython\\core\\interactiveshell.py\", line 3378, in run_code\n      exec(code_obj, self.user_global_ns, self.user_ns)\n    File \"C:\\Users\\LENOVO\\AppData\\Local\\Temp\\ipykernel_9280\\2462982489.py\", line 5, in <module>\n      evaluation.evaluation()\n    File \"C:\\Users\\LENOVO\\AppData\\Local\\Temp\\ipykernel_9280\\2684958542.py\", line 41, in evaluation\n      self.score = model.evaluate(self.valid_generator)\n    File \"C:\\Users\\LENOVO\\AppData\\Roaming\\Python\\Python39\\site-packages\\keras\\utils\\traceback_utils.py\", line 64, in error_handler\n      return fn(*args, **kwargs)\n    File \"C:\\Users\\LENOVO\\AppData\\Roaming\\Python\\Python39\\site-packages\\keras\\engine\\training.py\", line 1756, in evaluate\n      tmp_logs = self.test_function(iterator)\n    File \"C:\\Users\\LENOVO\\AppData\\Roaming\\Python\\Python39\\site-packages\\keras\\engine\\training.py\", line 1557, in test_function\n      return step_function(self, iterator)\n    File \"C:\\Users\\LENOVO\\AppData\\Roaming\\Python\\Python39\\site-packages\\keras\\engine\\training.py\", line 1546, in step_function\n      outputs = model.distribute_strategy.run(run_step, args=(data,))\n    File \"C:\\Users\\LENOVO\\AppData\\Roaming\\Python\\Python39\\site-packages\\keras\\engine\\training.py\", line 1535, in run_step\n      outputs = model.test_step(data)\n    File \"C:\\Users\\LENOVO\\AppData\\Roaming\\Python\\Python39\\site-packages\\keras\\engine\\training.py\", line 1502, in test_step\n      return self.compute_metrics(x, y, y_pred, sample_weight)\n    File \"C:\\Users\\LENOVO\\AppData\\Roaming\\Python\\Python39\\site-packages\\keras\\engine\\training.py\", line 987, in compute_metrics\n      self.compiled_metrics.update_state(y, y_pred, sample_weight)\n    File \"C:\\Users\\LENOVO\\AppData\\Roaming\\Python\\Python39\\site-packages\\keras\\engine\\compile_utils.py\", line 501, in update_state\n      metric_obj.update_state(y_t, y_p, sample_weight=mask)\n    File \"C:\\Users\\LENOVO\\AppData\\Roaming\\Python\\Python39\\site-packages\\keras\\utils\\metrics_utils.py\", line 70, in decorated\n      update_op = update_state_fn(*args, **kwargs)\n    File \"C:\\Users\\LENOVO\\AppData\\Roaming\\Python\\Python39\\site-packages\\keras\\metrics\\base_metric.py\", line 140, in update_state_fn\n      return ag_update_state(*args, **kwargs)\n    File \"C:\\Users\\LENOVO\\AppData\\Roaming\\Python\\Python39\\site-packages\\keras\\metrics\\base_metric.py\", line 646, in update_state\n      matches = ag_fn(y_true, y_pred, **self._fn_kwargs)\n    File \"C:\\Users\\LENOVO\\AppData\\Roaming\\Python\\Python39\\site-packages\\keras\\metrics\\metrics.py\", line 3327, in sparse_categorical_accuracy\n      matches = metrics_utils.sparse_categorical_matches(y_true, y_pred)\n    File \"C:\\Users\\LENOVO\\AppData\\Roaming\\Python\\Python39\\site-packages\\keras\\utils\\metrics_utils.py\", line 885, in sparse_categorical_matches\n      y_true = tf.squeeze(y_true, [-1])\nNode: 'Squeeze'\nCan not squeeze dim[1], expected a dimension of 1, got 2\n\t [[{{node Squeeze}}]] [Op:__inference_test_function_539]",
     "output_type": "error",
     "traceback": [
      "\u001b[1;31m---------------------------------------------------------------------------\u001b[0m",
      "\u001b[1;31mInvalidArgumentError\u001b[0m                      Traceback (most recent call last)",
      "Cell \u001b[1;32mIn [27], line 9\u001b[0m\n\u001b[0;32m      7\u001b[0m     evaluation\u001b[38;5;241m.\u001b[39mlog_into_mlflow()\n\u001b[0;32m      8\u001b[0m \u001b[38;5;28;01mexcept\u001b[39;00m \u001b[38;5;167;01mException\u001b[39;00m \u001b[38;5;28;01mas\u001b[39;00m e:\n\u001b[1;32m----> 9\u001b[0m     \u001b[38;5;28;01mraise\u001b[39;00m e\n",
      "Cell \u001b[1;32mIn [27], line 5\u001b[0m\n\u001b[0;32m      3\u001b[0m val_config\u001b[38;5;241m=\u001b[39m config\u001b[38;5;241m.\u001b[39mget_validation_config()\n\u001b[0;32m      4\u001b[0m evaluation \u001b[38;5;241m=\u001b[39m Evaluation(val_config)\n\u001b[1;32m----> 5\u001b[0m \u001b[43mevaluation\u001b[49m\u001b[38;5;241;43m.\u001b[39;49m\u001b[43mevaluation\u001b[49m\u001b[43m(\u001b[49m\u001b[43m)\u001b[49m\n\u001b[0;32m      6\u001b[0m evaluation\u001b[38;5;241m.\u001b[39msave_score()\n\u001b[0;32m      7\u001b[0m evaluation\u001b[38;5;241m.\u001b[39mlog_into_mlflow()\n",
      "Cell \u001b[1;32mIn [26], line 41\u001b[0m, in \u001b[0;36mEvaluation.evaluation\u001b[1;34m(self)\u001b[0m\n\u001b[0;32m     39\u001b[0m \u001b[38;5;28mself\u001b[39m\u001b[38;5;241m.\u001b[39mmodel \u001b[38;5;241m=\u001b[39m \u001b[38;5;28mself\u001b[39m\u001b[38;5;241m.\u001b[39mload_model(\u001b[38;5;28mself\u001b[39m\u001b[38;5;241m.\u001b[39mconfig\u001b[38;5;241m.\u001b[39mpath_to_model)\n\u001b[0;32m     40\u001b[0m \u001b[38;5;28mself\u001b[39m\u001b[38;5;241m.\u001b[39m_valid_generator()\n\u001b[1;32m---> 41\u001b[0m \u001b[38;5;28mself\u001b[39m\u001b[38;5;241m.\u001b[39mscore \u001b[38;5;241m=\u001b[39m \u001b[43mmodel\u001b[49m\u001b[38;5;241;43m.\u001b[39;49m\u001b[43mevaluate\u001b[49m\u001b[43m(\u001b[49m\u001b[38;5;28;43mself\u001b[39;49m\u001b[38;5;241;43m.\u001b[39;49m\u001b[43mvalid_generator\u001b[49m\u001b[43m)\u001b[49m\n",
      "File \u001b[1;32m~\\AppData\\Roaming\\Python\\Python39\\site-packages\\keras\\utils\\traceback_utils.py:67\u001b[0m, in \u001b[0;36mfilter_traceback.<locals>.error_handler\u001b[1;34m(*args, **kwargs)\u001b[0m\n\u001b[0;32m     65\u001b[0m \u001b[39mexcept\u001b[39;00m \u001b[39mException\u001b[39;00m \u001b[39mas\u001b[39;00m e:  \u001b[39m# pylint: disable=broad-except\u001b[39;00m\n\u001b[0;32m     66\u001b[0m   filtered_tb \u001b[39m=\u001b[39m _process_traceback_frames(e\u001b[39m.\u001b[39m__traceback__)\n\u001b[1;32m---> 67\u001b[0m   \u001b[39mraise\u001b[39;00m e\u001b[39m.\u001b[39mwith_traceback(filtered_tb) \u001b[39mfrom\u001b[39;00m \u001b[39mNone\u001b[39m\n\u001b[0;32m     68\u001b[0m \u001b[39mfinally\u001b[39;00m:\n\u001b[0;32m     69\u001b[0m   \u001b[39mdel\u001b[39;00m filtered_tb\n",
      "File \u001b[1;32m~\\AppData\\Roaming\\Python\\Python39\\site-packages\\tensorflow\\python\\eager\\execute.py:54\u001b[0m, in \u001b[0;36mquick_execute\u001b[1;34m(op_name, num_outputs, inputs, attrs, ctx, name)\u001b[0m\n\u001b[0;32m     52\u001b[0m \u001b[39mtry\u001b[39;00m:\n\u001b[0;32m     53\u001b[0m   ctx\u001b[39m.\u001b[39mensure_initialized()\n\u001b[1;32m---> 54\u001b[0m   tensors \u001b[39m=\u001b[39m pywrap_tfe\u001b[39m.\u001b[39mTFE_Py_Execute(ctx\u001b[39m.\u001b[39m_handle, device_name, op_name,\n\u001b[0;32m     55\u001b[0m                                       inputs, attrs, num_outputs)\n\u001b[0;32m     56\u001b[0m \u001b[39mexcept\u001b[39;00m core\u001b[39m.\u001b[39m_NotOkStatusException \u001b[39mas\u001b[39;00m e:\n\u001b[0;32m     57\u001b[0m   \u001b[39mif\u001b[39;00m name \u001b[39mis\u001b[39;00m \u001b[39mnot\u001b[39;00m \u001b[39mNone\u001b[39;00m:\n",
      "\u001b[1;31mInvalidArgumentError\u001b[0m: Graph execution error:\n\nDetected at node 'Squeeze' defined at (most recent call last):\n    File \"d:\\PycharmProjects\\DS_ML_Self\\FSDS_NOV_deepCNNClassifier\\env\\lib\\runpy.py\", line 197, in _run_module_as_main\n      return _run_code(code, main_globals, None,\n    File \"d:\\PycharmProjects\\DS_ML_Self\\FSDS_NOV_deepCNNClassifier\\env\\lib\\runpy.py\", line 87, in _run_code\n      exec(code, run_globals)\n    File \"d:\\PycharmProjects\\DS_ML_Self\\FSDS_NOV_deepCNNClassifier\\env\\lib\\site-packages\\ipykernel_launcher.py\", line 17, in <module>\n      app.launch_new_instance()\n    File \"d:\\PycharmProjects\\DS_ML_Self\\FSDS_NOV_deepCNNClassifier\\env\\lib\\site-packages\\traitlets\\config\\application.py\", line 978, in launch_instance\n      app.start()\n    File \"d:\\PycharmProjects\\DS_ML_Self\\FSDS_NOV_deepCNNClassifier\\env\\lib\\site-packages\\ipykernel\\kernelapp.py\", line 712, in start\n      self.io_loop.start()\n    File \"d:\\PycharmProjects\\DS_ML_Self\\FSDS_NOV_deepCNNClassifier\\env\\lib\\site-packages\\tornado\\platform\\asyncio.py\", line 215, in start\n      self.asyncio_loop.run_forever()\n    File \"d:\\PycharmProjects\\DS_ML_Self\\FSDS_NOV_deepCNNClassifier\\env\\lib\\asyncio\\base_events.py\", line 601, in run_forever\n      self._run_once()\n    File \"d:\\PycharmProjects\\DS_ML_Self\\FSDS_NOV_deepCNNClassifier\\env\\lib\\asyncio\\base_events.py\", line 1905, in _run_once\n      handle._run()\n    File \"d:\\PycharmProjects\\DS_ML_Self\\FSDS_NOV_deepCNNClassifier\\env\\lib\\asyncio\\events.py\", line 80, in _run\n      self._context.run(self._callback, *self._args)\n    File \"d:\\PycharmProjects\\DS_ML_Self\\FSDS_NOV_deepCNNClassifier\\env\\lib\\site-packages\\ipykernel\\kernelbase.py\", line 510, in dispatch_queue\n      await self.process_one()\n    File \"d:\\PycharmProjects\\DS_ML_Self\\FSDS_NOV_deepCNNClassifier\\env\\lib\\site-packages\\ipykernel\\kernelbase.py\", line 499, in process_one\n      await dispatch(*args)\n    File \"d:\\PycharmProjects\\DS_ML_Self\\FSDS_NOV_deepCNNClassifier\\env\\lib\\site-packages\\ipykernel\\kernelbase.py\", line 406, in dispatch_shell\n      await result\n    File \"d:\\PycharmProjects\\DS_ML_Self\\FSDS_NOV_deepCNNClassifier\\env\\lib\\site-packages\\ipykernel\\kernelbase.py\", line 730, in execute_request\n      reply_content = await reply_content\n    File \"d:\\PycharmProjects\\DS_ML_Self\\FSDS_NOV_deepCNNClassifier\\env\\lib\\site-packages\\ipykernel\\ipkernel.py\", line 383, in do_execute\n      res = shell.run_cell(\n    File \"d:\\PycharmProjects\\DS_ML_Self\\FSDS_NOV_deepCNNClassifier\\env\\lib\\site-packages\\ipykernel\\zmqshell.py\", line 528, in run_cell\n      return super().run_cell(*args, **kwargs)\n    File \"d:\\PycharmProjects\\DS_ML_Self\\FSDS_NOV_deepCNNClassifier\\env\\lib\\site-packages\\IPython\\core\\interactiveshell.py\", line 2885, in run_cell\n      result = self._run_cell(\n    File \"d:\\PycharmProjects\\DS_ML_Self\\FSDS_NOV_deepCNNClassifier\\env\\lib\\site-packages\\IPython\\core\\interactiveshell.py\", line 2940, in _run_cell\n      return runner(coro)\n    File \"d:\\PycharmProjects\\DS_ML_Self\\FSDS_NOV_deepCNNClassifier\\env\\lib\\site-packages\\IPython\\core\\async_helpers.py\", line 129, in _pseudo_sync_runner\n      coro.send(None)\n    File \"d:\\PycharmProjects\\DS_ML_Self\\FSDS_NOV_deepCNNClassifier\\env\\lib\\site-packages\\IPython\\core\\interactiveshell.py\", line 3139, in run_cell_async\n      has_raised = await self.run_ast_nodes(code_ast.body, cell_name,\n    File \"d:\\PycharmProjects\\DS_ML_Self\\FSDS_NOV_deepCNNClassifier\\env\\lib\\site-packages\\IPython\\core\\interactiveshell.py\", line 3318, in run_ast_nodes\n      if await self.run_code(code, result, async_=asy):\n    File \"d:\\PycharmProjects\\DS_ML_Self\\FSDS_NOV_deepCNNClassifier\\env\\lib\\site-packages\\IPython\\core\\interactiveshell.py\", line 3378, in run_code\n      exec(code_obj, self.user_global_ns, self.user_ns)\n    File \"C:\\Users\\LENOVO\\AppData\\Local\\Temp\\ipykernel_9280\\2462982489.py\", line 5, in <module>\n      evaluation.evaluation()\n    File \"C:\\Users\\LENOVO\\AppData\\Local\\Temp\\ipykernel_9280\\2684958542.py\", line 41, in evaluation\n      self.score = model.evaluate(self.valid_generator)\n    File \"C:\\Users\\LENOVO\\AppData\\Roaming\\Python\\Python39\\site-packages\\keras\\utils\\traceback_utils.py\", line 64, in error_handler\n      return fn(*args, **kwargs)\n    File \"C:\\Users\\LENOVO\\AppData\\Roaming\\Python\\Python39\\site-packages\\keras\\engine\\training.py\", line 1756, in evaluate\n      tmp_logs = self.test_function(iterator)\n    File \"C:\\Users\\LENOVO\\AppData\\Roaming\\Python\\Python39\\site-packages\\keras\\engine\\training.py\", line 1557, in test_function\n      return step_function(self, iterator)\n    File \"C:\\Users\\LENOVO\\AppData\\Roaming\\Python\\Python39\\site-packages\\keras\\engine\\training.py\", line 1546, in step_function\n      outputs = model.distribute_strategy.run(run_step, args=(data,))\n    File \"C:\\Users\\LENOVO\\AppData\\Roaming\\Python\\Python39\\site-packages\\keras\\engine\\training.py\", line 1535, in run_step\n      outputs = model.test_step(data)\n    File \"C:\\Users\\LENOVO\\AppData\\Roaming\\Python\\Python39\\site-packages\\keras\\engine\\training.py\", line 1502, in test_step\n      return self.compute_metrics(x, y, y_pred, sample_weight)\n    File \"C:\\Users\\LENOVO\\AppData\\Roaming\\Python\\Python39\\site-packages\\keras\\engine\\training.py\", line 987, in compute_metrics\n      self.compiled_metrics.update_state(y, y_pred, sample_weight)\n    File \"C:\\Users\\LENOVO\\AppData\\Roaming\\Python\\Python39\\site-packages\\keras\\engine\\compile_utils.py\", line 501, in update_state\n      metric_obj.update_state(y_t, y_p, sample_weight=mask)\n    File \"C:\\Users\\LENOVO\\AppData\\Roaming\\Python\\Python39\\site-packages\\keras\\utils\\metrics_utils.py\", line 70, in decorated\n      update_op = update_state_fn(*args, **kwargs)\n    File \"C:\\Users\\LENOVO\\AppData\\Roaming\\Python\\Python39\\site-packages\\keras\\metrics\\base_metric.py\", line 140, in update_state_fn\n      return ag_update_state(*args, **kwargs)\n    File \"C:\\Users\\LENOVO\\AppData\\Roaming\\Python\\Python39\\site-packages\\keras\\metrics\\base_metric.py\", line 646, in update_state\n      matches = ag_fn(y_true, y_pred, **self._fn_kwargs)\n    File \"C:\\Users\\LENOVO\\AppData\\Roaming\\Python\\Python39\\site-packages\\keras\\metrics\\metrics.py\", line 3327, in sparse_categorical_accuracy\n      matches = metrics_utils.sparse_categorical_matches(y_true, y_pred)\n    File \"C:\\Users\\LENOVO\\AppData\\Roaming\\Python\\Python39\\site-packages\\keras\\utils\\metrics_utils.py\", line 885, in sparse_categorical_matches\n      y_true = tf.squeeze(y_true, [-1])\nNode: 'Squeeze'\nCan not squeeze dim[1], expected a dimension of 1, got 2\n\t [[{{node Squeeze}}]] [Op:__inference_test_function_539]"
     ]
    }
   ],
   "source": [
    "try:\n",
    "    config = ConfigurationManager()\n",
    "    val_config= config.get_validation_config()\n",
    "    evaluation = Evaluation(val_config)\n",
    "    evaluation.evaluation()\n",
    "    evaluation.save_score()\n",
    "    evaluation.log_into_mlflow()\n",
    "except Exception as e:\n",
    "    raise e"
   ]
  }
 ],
 "metadata": {
  "kernelspec": {
   "display_name": "Python 3.9.13",
   "language": "python",
   "name": "python3"
  },
  "language_info": {
   "codemirror_mode": {
    "name": "ipython",
    "version": 3
   },
   "file_extension": ".py",
   "mimetype": "text/x-python",
   "name": "python",
   "nbconvert_exporter": "python",
   "pygments_lexer": "ipython3",
   "version": "3.9.13"
  },
  "orig_nbformat": 4,
  "vscode": {
   "interpreter": {
    "hash": "aa04ccd2eafbad8d540bcdabdd0025926a8737510c205f15be7a88e64d7e50f3"
   }
  }
 },
 "nbformat": 4,
 "nbformat_minor": 2
}
